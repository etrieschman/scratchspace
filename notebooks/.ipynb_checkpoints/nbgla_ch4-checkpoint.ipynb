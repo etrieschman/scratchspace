{
 "cells": [
  {
   "cell_type": "code",
   "execution_count": 1,
   "id": "6a21b0a9-8a76-4552-854d-2f87ebd4962e",
   "metadata": {},
   "outputs": [],
   "source": [
    "import pandas as pd\n",
    "import numpy as np\n",
    "from sympy.matrices import Matrix"
   ]
  },
  {
   "cell_type": "markdown",
   "id": "0d54a5d9-18d0-490e-8322-aa07304cf2c9",
   "metadata": {},
   "source": [
    "# Chapter 4\n",
    "## Notes: Reduced Row Echelon form (through Gauss-Jordan elimination)"
   ]
  },
  {
   "cell_type": "code",
   "execution_count": 2,
   "id": "92ee3441-e81f-468a-9340-85f9d4f34061",
   "metadata": {},
   "outputs": [
    {
     "output_type": "execute_result",
     "data": {
      "text/plain": [
       "Matrix([\n",
       "[1, 2,  5],\n",
       "[3, 9, 21]])"
      ],
      "text/latex": "$\\displaystyle \\left[\\begin{matrix}1 & 2 & 5\\\\3 & 9 & 21\\end{matrix}\\right]$"
     },
     "metadata": {},
     "execution_count": 2
    }
   ],
   "source": [
    "A = Matrix([[1, 2, 5], [3, 9, 21]])\n",
    "A"
   ]
  },
  {
   "cell_type": "code",
   "execution_count": 3,
   "id": "a84553b4-b501-42f4-bd32-0e3e9285458f",
   "metadata": {},
   "outputs": [
    {
     "output_type": "stream",
     "name": "stdout",
     "text": [
      "reduced row echelon form: Matrix([[1, 0, 1], [0, 1, 2]])\nPivots: (0, 1)\n*pivots output are 0-based column references that contain 1\n"
     ]
    }
   ],
   "source": [
    "rref, piv = A.rref()\n",
    "print(f'reduced row echelon form: {rref}')\n",
    "print(f'Pivots: {piv}')\n",
    "print('*pivots output are 0-based column references that contain 1')"
   ]
  },
  {
   "cell_type": "markdown",
   "id": "37b5ee64-812f-49d6-8cd5-54a7364ab7fe",
   "metadata": {},
   "source": [
    "## Notes: Manually calculated"
   ]
  },
  {
   "cell_type": "code",
   "execution_count": 110,
   "id": "3a5fdabb-3eec-4a5e-8e05-c0481e7c28cb",
   "metadata": {},
   "outputs": [
    {
     "output_type": "execute_result",
     "data": {
      "text/plain": [
       "array([[ 1,  2,  5],\n",
       "       [ 3,  9, 21]])"
      ]
     },
     "metadata": {},
     "execution_count": 110
    }
   ],
   "source": [
    "amat = np.array(((1, 2, 5), (3, 9, 21)))\n",
    "amat"
   ]
  },
  {
   "cell_type": "code",
   "execution_count": 111,
   "id": "db70a8c1-d7f3-487f-b19a-d53ad16c442a",
   "metadata": {},
   "outputs": [
    {
     "output_type": "execute_result",
     "data": {
      "text/plain": [
       "array([[1, 0, 1],\n",
       "       [0, 1, 2]])"
      ]
     },
     "metadata": {},
     "execution_count": 111
    }
   ],
   "source": [
    "amat[1] = amat[1] - 3*amat[0]\n",
    "amat[1] = 1 / 3 * amat[1]\n",
    "amat[0] = amat[0] - 2 * amat[1]\n",
    "amat"
   ]
  },
  {
   "cell_type": "markdown",
   "id": "234f7f62-0a86-4859-8bd5-567407e5e6b4",
   "metadata": {},
   "source": [
    "## Exercise 4.1\n",
    "Find solution by bringing array into row echelon form"
   ]
  },
  {
   "cell_type": "code",
   "execution_count": 112,
   "id": "96a14e1e-bc1f-46f9-8526-d254d48fb488",
   "metadata": {},
   "outputs": [
    {
     "output_type": "execute_result",
     "data": {
      "text/plain": [
       "array([[ 1.,  0.,  4.],\n",
       "       [ 0.,  1., -2.]])"
      ]
     },
     "metadata": {},
     "execution_count": 112
    }
   ],
   "source": [
    "a = np.array(((3, 3, 6), (2, 3/2, 5)))\n",
    "\n",
    "a[1] = 1/2 * a[1]\n",
    "a[0] = a[0] - 3 * a[1]\n",
    "a[[0,1]] = a[[1, 0]]\n",
    "a[0] = a[0] - a[1]\n",
    "a[1] = 4/3 * a[1]\n",
    "a"
   ]
  },
  {
   "cell_type": "markdown",
   "id": "f8a42e37-6e66-4ea1-ba82-98a7661cde5c",
   "metadata": {},
   "source": [
    "## Exercise 4.2\n",
    "Repeat process using `sypm"
   ]
  },
  {
   "cell_type": "code",
   "execution_count": 113,
   "id": "c12e6495-5961-450b-8c17-46f880d11f6a",
   "metadata": {},
   "outputs": [
    {
     "output_type": "execute_result",
     "data": {
      "text/plain": [
       "Matrix([\n",
       "[3.0, 3.0, 6.0],\n",
       "[2.0, 1.5, 5.0]])"
      ],
      "text/latex": "$\\displaystyle \\left[\\begin{matrix}3.0 & 3.0 & 6.0\\\\2.0 & 1.5 & 5.0\\end{matrix}\\right]$"
     },
     "metadata": {},
     "execution_count": 113
    }
   ],
   "source": [
    "A = Matrix(np.array(((3, 3, 6), (2, 3/2, 5))))\n",
    "A"
   ]
  },
  {
   "cell_type": "code",
   "execution_count": 114,
   "id": "692bf4ca-69ac-4535-bf2f-ff5f4d26208e",
   "metadata": {},
   "outputs": [
    {
     "output_type": "execute_result",
     "data": {
      "text/plain": [
       "Matrix([\n",
       "[1, 0,  4.0],\n",
       "[0, 1, -2.0]])"
      ],
      "text/latex": "$\\displaystyle \\left[\\begin{matrix}1 & 0 & 4.0\\\\0 & 1 & -2.0\\end{matrix}\\right]$"
     },
     "metadata": {},
     "execution_count": 114
    }
   ],
   "source": [
    "rref, pivot = A.rref()\n",
    "rref"
   ]
  },
  {
   "cell_type": "markdown",
   "id": "13a1f019-5a7f-47d1-a896-27f5b3daa178",
   "metadata": {},
   "source": [
    "## Exercise 4.3"
   ]
  },
  {
   "cell_type": "code",
   "execution_count": 115,
   "id": "5eeff86f-b98b-409c-8adf-8140a1e398a5",
   "metadata": {},
   "outputs": [],
   "source": [
    "a = np.array(((3, 3, 6), (1, 1, 5)))\n",
    "b = np.array(((3, 3, 6), (2, 3/2, 3)))\n",
    "c = np.array(((3, 3, 6), (1, 1, 2)))"
   ]
  },
  {
   "cell_type": "code",
   "execution_count": 116,
   "id": "a9787ec0-3e01-45be-b22b-efaaf71b3867",
   "metadata": {},
   "outputs": [
    {
     "output_type": "execute_result",
     "data": {
      "text/plain": [
       "(Matrix([\n",
       " [1, 1, 0],\n",
       " [0, 0, 1]]),\n",
       " (0, 2))"
      ]
     },
     "metadata": {},
     "execution_count": 116
    }
   ],
   "source": [
    "Matrix(a).rref()"
   ]
  },
  {
   "cell_type": "code",
   "execution_count": 117,
   "id": "8ad3e0d3-0344-44b9-91d4-e742cc981b6a",
   "metadata": {},
   "outputs": [
    {
     "output_type": "execute_result",
     "data": {
      "text/plain": [
       "(Matrix([\n",
       " [1, 0,   0],\n",
       " [0, 1, 2.0]]),\n",
       " (0, 1))"
      ]
     },
     "metadata": {},
     "execution_count": 117
    }
   ],
   "source": [
    "Matrix(b).rref()"
   ]
  },
  {
   "cell_type": "code",
   "execution_count": 118,
   "id": "66af9249-8525-4f85-8bd3-196c1f89f742",
   "metadata": {},
   "outputs": [
    {
     "output_type": "execute_result",
     "data": {
      "text/plain": [
       "(Matrix([\n",
       " [1, 1, 2],\n",
       " [0, 0, 0]]),\n",
       " (0,))"
      ]
     },
     "metadata": {},
     "execution_count": 118
    }
   ],
   "source": [
    "Matrix(c).rref()"
   ]
  },
  {
   "cell_type": "markdown",
   "id": "6f0927c5-df89-4e96-ad41-347ecb0a934e",
   "metadata": {},
   "source": [
    "**a)** Solution set: _no solution_"
   ]
  },
  {
   "cell_type": "code",
   "execution_count": 119,
   "id": "47ec7b20-fea0-42b0-bc33-d6edbf7a800f",
   "metadata": {},
   "outputs": [
    {
     "output_type": "execute_result",
     "data": {
      "text/plain": [
       "array([[3, 3, 6],\n",
       "       [1, 1, 5]])"
      ]
     },
     "metadata": {},
     "execution_count": 119
    }
   ],
   "source": [
    "a"
   ]
  },
  {
   "cell_type": "code",
   "execution_count": 120,
   "id": "3b5b6d72-9c14-4e28-8816-a259a70fe6e8",
   "metadata": {},
   "outputs": [
    {
     "output_type": "execute_result",
     "data": {
      "text/plain": [
       "array([[ 0,  0, -9],\n",
       "       [ 1,  1,  5]])"
      ]
     },
     "metadata": {},
     "execution_count": 120
    }
   ],
   "source": [
    "a[0] = a[0] - 3 * a[1]\n",
    "a"
   ]
  },
  {
   "cell_type": "markdown",
   "id": "07a68491-4b8d-4c73-aafe-d8e7446cddaa",
   "metadata": {},
   "source": [
    "**b)** Solution set: {(0, 2)}"
   ]
  },
  {
   "cell_type": "code",
   "execution_count": 121,
   "id": "d395859d-94d2-4dc9-8ace-17ff6f53c88e",
   "metadata": {},
   "outputs": [
    {
     "output_type": "execute_result",
     "data": {
      "text/plain": [
       "array([[3. , 3. , 6. ],\n",
       "       [2. , 1.5, 3. ]])"
      ]
     },
     "metadata": {},
     "execution_count": 121
    }
   ],
   "source": [
    "b"
   ]
  },
  {
   "cell_type": "code",
   "execution_count": 122,
   "id": "f85908c4-74ab-4083-89f2-509c2848fb92",
   "metadata": {},
   "outputs": [
    {
     "output_type": "execute_result",
     "data": {
      "text/plain": [
       "array([[ 1.,  0.,  0.],\n",
       "       [-0.,  1.,  2.]])"
      ]
     },
     "metadata": {},
     "execution_count": 122
    }
   ],
   "source": [
    "b[0] = 1/3 * b[0]\n",
    "b[1] = b[1] - 2 * b[0]\n",
    "b[1] = -2 * b[1]\n",
    "b[0] = b[0] - b[1]\n",
    "b"
   ]
  },
  {
   "cell_type": "markdown",
   "id": "9171af59-29d1-4471-a5f3-50e17f6acdce",
   "metadata": {},
   "source": [
    "**c)** Solution set: {s + t = 2, for all s, t in Reals}"
   ]
  },
  {
   "cell_type": "code",
   "execution_count": 123,
   "id": "3ff3fa7e-e1cc-4254-ac44-b18e22507a1c",
   "metadata": {},
   "outputs": [
    {
     "output_type": "execute_result",
     "data": {
      "text/plain": [
       "array([[3, 3, 6],\n",
       "       [1, 1, 2]])"
      ]
     },
     "metadata": {},
     "execution_count": 123
    }
   ],
   "source": [
    "c"
   ]
  },
  {
   "cell_type": "code",
   "execution_count": 124,
   "id": "8b2e159b-5677-4b28-9e1f-7d3099e6074d",
   "metadata": {},
   "outputs": [
    {
     "output_type": "execute_result",
     "data": {
      "text/plain": [
       "array([[0, 0, 0],\n",
       "       [1, 1, 2]])"
      ]
     },
     "metadata": {},
     "execution_count": 124
    }
   ],
   "source": [
    "c[0] = c[0] - 3 * c[1]\n",
    "c"
   ]
  },
  {
   "cell_type": "markdown",
   "id": "0c31366b-59e1-416a-a3cb-a54831da6886",
   "metadata": {},
   "source": [
    "## Exercise 4.4\n",
    "a) XA = B --> X = BA_inv\n",
    "\n",
    "b) ABCXD = E --> C_invB_invA_invED_inv\n",
    "\n",
    "c) AC = XDC --> AD_inv = X"
   ]
  },
  {
   "cell_type": "markdown",
   "id": "a3db94fb-92dc-4bff-9cbd-ae05d253151c",
   "metadata": {},
   "source": [
    "## Exercise 4.5"
   ]
  },
  {
   "cell_type": "code",
   "execution_count": 125,
   "id": "a13fdb1d-2af7-41b5-9a05-c223b09a9dba",
   "metadata": {},
   "outputs": [],
   "source": [
    "a = np.array(((1, 2), (3, 4)))\n",
    "b = np.array(((3, 4), (1, 2)))\n",
    "c = np.array(((1, 1, 1), (1, 2, 3), (1, 2, 1)))\n",
    "d = np.array(((1, 2, 3), (0, 0, 0), (1, 3, 4)))"
   ]
  },
  {
   "cell_type": "code",
   "execution_count": 126,
   "id": "69bab8cc-af08-4175-a829-039bbe885e39",
   "metadata": {},
   "outputs": [],
   "source": [
    "def twobytwo_det(mat):\n",
    "    '''calculate 2x2 determinant'''\n",
    "    det = mat[0,0]*mat[1,1] - mat[0,1]*mat[1,0]\n",
    "    return det\n",
    "\n",
    "def determinant(mat):\n",
    "    assert mat.shape[0] == mat.shape[1]\n",
    "    if mat.shape == (2, 2):\n",
    "        return twobytwo_det(mat)\n",
    "    det = 0\n",
    "    for i in range(mat.shape[0]):\n",
    "        i_index1 = i+1\n",
    "        sub_mat = np.delete(mat, obj=0, axis=0)\n",
    "        sub_mat = np.delete(sub_mat, obj=i, axis=1)\n",
    "        det = det + (-1)**(1+i_index1) * mat[0,i] * determinant(sub_mat)\n",
    "    return det"
   ]
  },
  {
   "cell_type": "code",
   "execution_count": 127,
   "id": "97255afe-0e86-4913-90cf-621c8c83799b",
   "metadata": {},
   "outputs": [
    {
     "output_type": "stream",
     "name": "stdout",
     "text": [
      "Determinant: -2\n"
     ]
    }
   ],
   "source": [
    "a_det = determinant(a)\n",
    "print(f'Determinant: {a_det}')\n",
    "assert a_det == Matrix(a).det()"
   ]
  },
  {
   "cell_type": "code",
   "execution_count": 128,
   "id": "6024c2c1-5433-430d-904e-93bf42756e18",
   "metadata": {},
   "outputs": [
    {
     "output_type": "stream",
     "name": "stdout",
     "text": [
      "Determinant: 2\n"
     ]
    }
   ],
   "source": [
    "b_det = determinant(b)\n",
    "print(f'Determinant: {b_det}')\n",
    "assert b_det == Matrix(b).det()"
   ]
  },
  {
   "cell_type": "code",
   "execution_count": 129,
   "id": "debbcaff-d7c0-4d33-85bd-3d44aece368b",
   "metadata": {},
   "outputs": [
    {
     "output_type": "stream",
     "name": "stdout",
     "text": [
      "Determinant: -2\n"
     ]
    }
   ],
   "source": [
    "c_det = determinant(c)\n",
    "print(f'Determinant: {c_det}')\n",
    "assert c_det == Matrix(c).det()"
   ]
  },
  {
   "cell_type": "code",
   "execution_count": 130,
   "id": "9fd46b8d-5dcb-4eb9-b2d1-8953abd9b1a2",
   "metadata": {},
   "outputs": [
    {
     "output_type": "stream",
     "name": "stdout",
     "text": [
      "Determinant: 0\n"
     ]
    }
   ],
   "source": [
    "d_det = determinant(d)\n",
    "print(f'Determinant: {d_det}')\n",
    "assert d_det == Matrix(d).det()"
   ]
  },
  {
   "cell_type": "markdown",
   "id": "577fc77c-16c8-48ce-8139-d2b5c72d9a43",
   "metadata": {},
   "source": [
    "## Exercise 4.7\n",
    "Find the volume of the parallelepiped whose sides are the vectors u = (1,2,3), v = (2,−2,4), and w = (2,2,5)."
   ]
  },
  {
   "cell_type": "code",
   "execution_count": 140,
   "id": "19360aa1-8942-4099-a495-ef73442e24ae",
   "metadata": {},
   "outputs": [
    {
     "output_type": "stream",
     "name": "stdout",
     "text": [
      "Determinant: 2\n"
     ]
    }
   ],
   "source": [
    "parallelpiped_axes = np.array(((1, 2, 3), (2, -2, 4), (2, 2, 5)))\n",
    "print(f'Determinant: {determinant(parallelpiped_axes)}')\n",
    "assert determinant(parallelpiped_axes) == Matrix(parallelpiped_axes).det()"
   ]
  }
 ],
 "metadata": {
  "kernelspec": {
   "name": "python395jvsc74a57bd08e301247d3da0d78b2f24324640c1926e8640b3b57f206cc775a1c836df6ab8d",
   "display_name": "Python 3.9.5 64-bit ('venv.scratchspace')"
  },
  "language_info": {
   "codemirror_mode": {
    "name": "ipython",
    "version": 3
   },
   "file_extension": ".py",
   "mimetype": "text/x-python",
   "name": "python",
   "nbconvert_exporter": "python",
   "pygments_lexer": "ipython3",
   "version": "3.9.5"
  }
 },
 "nbformat": 4,
 "nbformat_minor": 5
}